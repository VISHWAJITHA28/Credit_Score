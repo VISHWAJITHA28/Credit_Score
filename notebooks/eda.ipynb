
import pandas as pd
import matplotlib.pyplot as plt
import seaborn as sns

df = pd.read_csv('../output/wallet_scores.csv')

df['score_range'] = pd.cut(df['credit_score'], bins=range(0, 1100, 100))

plt.figure(figsize=(10, 5))
sns.countplot(data=df, x='score_range', palette='viridis')
plt.title("Wallet Credit Score Distribution")
plt.xlabel("Credit Score Range")
plt.ylabel("Number of Wallets")
plt.xticks(rotation=45)
plt.tight_layout()
plt.show()
